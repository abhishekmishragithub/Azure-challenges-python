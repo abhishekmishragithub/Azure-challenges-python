{
 "metadata": {
  "language_info": {
   "codemirror_mode": {
    "name": "ipython",
    "version": 3
   },
   "file_extension": ".py",
   "mimetype": "text/x-python",
   "name": "python",
   "nbconvert_exporter": "python",
   "pygments_lexer": "ipython3",
   "version": "3.9.1-final"
  },
  "orig_nbformat": 2,
  "kernelspec": {
   "name": "python3",
   "display_name": "Python 3",
   "language": "python"
  }
 },
 "nbformat": 4,
 "nbformat_minor": 2,
 "cells": [
  {
   "cell_type": "code",
   "execution_count": 1,
   "metadata": {},
   "outputs": [],
   "source": [
    "import pandas as pd"
   ]
  },
  {
   "cell_type": "code",
   "execution_count": 2,
   "metadata": {},
   "outputs": [],
   "source": [
    "# Import the CSV file and create a DataFrame.\n",
    "player_df_final = pd.read_csv('player_data_final.csv')"
   ]
  },
  {
   "cell_type": "code",
   "execution_count": 3,
   "metadata": {},
   "outputs": [
    {
     "output_type": "execute_result",
     "data": {
      "text/plain": [
       "    ID        player  points  possessions  team_pace         GP        MPG  \\\n",
       "26  31   tune_squad1  2049.0       1434.0      110.0  64.000000  38.800000   \n",
       "27  32   tune_squad2  1795.0       1481.8      112.1  62.000000  35.400000   \n",
       "28  33   tune_squad3  1805.0       1509.9      108.6  64.000000  35.400000   \n",
       "29  34   tune_squad4  1743.0       1422.4      112.9  64.000000  36.300000   \n",
       "30  35   tune_squad5  1963.0       1539.1      117.4  59.771429  35.208333   \n",
       "31  36   tune_squad6  2062.0       1505.7      111.5  59.771429  37.000000   \n",
       "32  37   tune_squad7  1845.0       1435.7      113.1  69.000000  36.900000   \n",
       "33  38   tune_squad8  1778.0       1526.4      109.3  66.000000  34.900000   \n",
       "34  39   tune_squad9  1901.0       1444.1      109.7  67.000000  36.500000   \n",
       "35  41  tune_squad11  2030.0       1431.0      112.3  68.000000  37.000000   \n",
       "36  42  tune_squad12  1631.0       1465.7      110.1  66.000000  37.500000   \n",
       "37  43  tune_squad13  1828.0       1507.2      112.7  64.000000  36.500000   \n",
       "38  44  tune_squad14  1821.0       1443.7      118.8  66.000000  36.600000   \n",
       "39  45  tune_squad15  1740.0       1443.9      114.1  68.000000  37.100000   \n",
       "40  46  tune_squad16  1993.0       1459.0      112.5  59.771429  36.900000   \n",
       "\n",
       "      TS%   AST    TO   USG  ORR   DRR  REBR        PER  \n",
       "26  0.619  31.5  14.9  35.5  8.3  17.6  12.8  28.440000  \n",
       "27  0.608  31.9  14.5  32.0  6.5  22.5  12.9  23.340000  \n",
       "28  0.622  27.9  13.9  36.0  5.9  27.7  12.2  22.410000  \n",
       "29  0.619  30.9  15.6  34.5  5.9  18.9  14.8  29.853138  \n",
       "30  0.633  32.3  16.2  34.0  5.9  19.8  13.1  27.160000  \n",
       "31  0.620  29.8  15.6  36.2  4.9  23.9  14.7  27.860000  \n",
       "32  0.634  33.2  14.0  36.5  4.1  21.5  16.4  34.260000  \n",
       "33  0.612  30.6  15.9  35.9  5.5  18.8  13.7  28.650000  \n",
       "34  0.609  27.2  14.8  35.5  5.0  21.8   8.9  20.120000  \n",
       "35  0.618  32.5  15.3  34.5  5.7  15.7  13.2  30.070000  \n",
       "36  0.613  28.4  14.4  35.7  6.5  20.7  14.0  28.400000  \n",
       "37  0.618  31.3  14.0  34.9  5.9  21.3  14.5  29.094310  \n",
       "38  0.609  27.3  13.5  35.8  7.0  23.8  11.5  22.960000  \n",
       "39  0.611  26.6  15.2  29.3  8.3  17.7  11.1  21.220000  \n",
       "40  0.627  30.4  15.0  33.7  6.3  19.3  14.1  28.760000  "
      ],
      "text/html": "<div>\n<style scoped>\n    .dataframe tbody tr th:only-of-type {\n        vertical-align: middle;\n    }\n\n    .dataframe tbody tr th {\n        vertical-align: top;\n    }\n\n    .dataframe thead th {\n        text-align: right;\n    }\n</style>\n<table border=\"1\" class=\"dataframe\">\n  <thead>\n    <tr style=\"text-align: right;\">\n      <th></th>\n      <th>ID</th>\n      <th>player</th>\n      <th>points</th>\n      <th>possessions</th>\n      <th>team_pace</th>\n      <th>GP</th>\n      <th>MPG</th>\n      <th>TS%</th>\n      <th>AST</th>\n      <th>TO</th>\n      <th>USG</th>\n      <th>ORR</th>\n      <th>DRR</th>\n      <th>REBR</th>\n      <th>PER</th>\n    </tr>\n  </thead>\n  <tbody>\n    <tr>\n      <th>26</th>\n      <td>31</td>\n      <td>tune_squad1</td>\n      <td>2049.0</td>\n      <td>1434.0</td>\n      <td>110.0</td>\n      <td>64.000000</td>\n      <td>38.800000</td>\n      <td>0.619</td>\n      <td>31.5</td>\n      <td>14.9</td>\n      <td>35.5</td>\n      <td>8.3</td>\n      <td>17.6</td>\n      <td>12.8</td>\n      <td>28.440000</td>\n    </tr>\n    <tr>\n      <th>27</th>\n      <td>32</td>\n      <td>tune_squad2</td>\n      <td>1795.0</td>\n      <td>1481.8</td>\n      <td>112.1</td>\n      <td>62.000000</td>\n      <td>35.400000</td>\n      <td>0.608</td>\n      <td>31.9</td>\n      <td>14.5</td>\n      <td>32.0</td>\n      <td>6.5</td>\n      <td>22.5</td>\n      <td>12.9</td>\n      <td>23.340000</td>\n    </tr>\n    <tr>\n      <th>28</th>\n      <td>33</td>\n      <td>tune_squad3</td>\n      <td>1805.0</td>\n      <td>1509.9</td>\n      <td>108.6</td>\n      <td>64.000000</td>\n      <td>35.400000</td>\n      <td>0.622</td>\n      <td>27.9</td>\n      <td>13.9</td>\n      <td>36.0</td>\n      <td>5.9</td>\n      <td>27.7</td>\n      <td>12.2</td>\n      <td>22.410000</td>\n    </tr>\n    <tr>\n      <th>29</th>\n      <td>34</td>\n      <td>tune_squad4</td>\n      <td>1743.0</td>\n      <td>1422.4</td>\n      <td>112.9</td>\n      <td>64.000000</td>\n      <td>36.300000</td>\n      <td>0.619</td>\n      <td>30.9</td>\n      <td>15.6</td>\n      <td>34.5</td>\n      <td>5.9</td>\n      <td>18.9</td>\n      <td>14.8</td>\n      <td>29.853138</td>\n    </tr>\n    <tr>\n      <th>30</th>\n      <td>35</td>\n      <td>tune_squad5</td>\n      <td>1963.0</td>\n      <td>1539.1</td>\n      <td>117.4</td>\n      <td>59.771429</td>\n      <td>35.208333</td>\n      <td>0.633</td>\n      <td>32.3</td>\n      <td>16.2</td>\n      <td>34.0</td>\n      <td>5.9</td>\n      <td>19.8</td>\n      <td>13.1</td>\n      <td>27.160000</td>\n    </tr>\n    <tr>\n      <th>31</th>\n      <td>36</td>\n      <td>tune_squad6</td>\n      <td>2062.0</td>\n      <td>1505.7</td>\n      <td>111.5</td>\n      <td>59.771429</td>\n      <td>37.000000</td>\n      <td>0.620</td>\n      <td>29.8</td>\n      <td>15.6</td>\n      <td>36.2</td>\n      <td>4.9</td>\n      <td>23.9</td>\n      <td>14.7</td>\n      <td>27.860000</td>\n    </tr>\n    <tr>\n      <th>32</th>\n      <td>37</td>\n      <td>tune_squad7</td>\n      <td>1845.0</td>\n      <td>1435.7</td>\n      <td>113.1</td>\n      <td>69.000000</td>\n      <td>36.900000</td>\n      <td>0.634</td>\n      <td>33.2</td>\n      <td>14.0</td>\n      <td>36.5</td>\n      <td>4.1</td>\n      <td>21.5</td>\n      <td>16.4</td>\n      <td>34.260000</td>\n    </tr>\n    <tr>\n      <th>33</th>\n      <td>38</td>\n      <td>tune_squad8</td>\n      <td>1778.0</td>\n      <td>1526.4</td>\n      <td>109.3</td>\n      <td>66.000000</td>\n      <td>34.900000</td>\n      <td>0.612</td>\n      <td>30.6</td>\n      <td>15.9</td>\n      <td>35.9</td>\n      <td>5.5</td>\n      <td>18.8</td>\n      <td>13.7</td>\n      <td>28.650000</td>\n    </tr>\n    <tr>\n      <th>34</th>\n      <td>39</td>\n      <td>tune_squad9</td>\n      <td>1901.0</td>\n      <td>1444.1</td>\n      <td>109.7</td>\n      <td>67.000000</td>\n      <td>36.500000</td>\n      <td>0.609</td>\n      <td>27.2</td>\n      <td>14.8</td>\n      <td>35.5</td>\n      <td>5.0</td>\n      <td>21.8</td>\n      <td>8.9</td>\n      <td>20.120000</td>\n    </tr>\n    <tr>\n      <th>35</th>\n      <td>41</td>\n      <td>tune_squad11</td>\n      <td>2030.0</td>\n      <td>1431.0</td>\n      <td>112.3</td>\n      <td>68.000000</td>\n      <td>37.000000</td>\n      <td>0.618</td>\n      <td>32.5</td>\n      <td>15.3</td>\n      <td>34.5</td>\n      <td>5.7</td>\n      <td>15.7</td>\n      <td>13.2</td>\n      <td>30.070000</td>\n    </tr>\n    <tr>\n      <th>36</th>\n      <td>42</td>\n      <td>tune_squad12</td>\n      <td>1631.0</td>\n      <td>1465.7</td>\n      <td>110.1</td>\n      <td>66.000000</td>\n      <td>37.500000</td>\n      <td>0.613</td>\n      <td>28.4</td>\n      <td>14.4</td>\n      <td>35.7</td>\n      <td>6.5</td>\n      <td>20.7</td>\n      <td>14.0</td>\n      <td>28.400000</td>\n    </tr>\n    <tr>\n      <th>37</th>\n      <td>43</td>\n      <td>tune_squad13</td>\n      <td>1828.0</td>\n      <td>1507.2</td>\n      <td>112.7</td>\n      <td>64.000000</td>\n      <td>36.500000</td>\n      <td>0.618</td>\n      <td>31.3</td>\n      <td>14.0</td>\n      <td>34.9</td>\n      <td>5.9</td>\n      <td>21.3</td>\n      <td>14.5</td>\n      <td>29.094310</td>\n    </tr>\n    <tr>\n      <th>38</th>\n      <td>44</td>\n      <td>tune_squad14</td>\n      <td>1821.0</td>\n      <td>1443.7</td>\n      <td>118.8</td>\n      <td>66.000000</td>\n      <td>36.600000</td>\n      <td>0.609</td>\n      <td>27.3</td>\n      <td>13.5</td>\n      <td>35.8</td>\n      <td>7.0</td>\n      <td>23.8</td>\n      <td>11.5</td>\n      <td>22.960000</td>\n    </tr>\n    <tr>\n      <th>39</th>\n      <td>45</td>\n      <td>tune_squad15</td>\n      <td>1740.0</td>\n      <td>1443.9</td>\n      <td>114.1</td>\n      <td>68.000000</td>\n      <td>37.100000</td>\n      <td>0.611</td>\n      <td>26.6</td>\n      <td>15.2</td>\n      <td>29.3</td>\n      <td>8.3</td>\n      <td>17.7</td>\n      <td>11.1</td>\n      <td>21.220000</td>\n    </tr>\n    <tr>\n      <th>40</th>\n      <td>46</td>\n      <td>tune_squad16</td>\n      <td>1993.0</td>\n      <td>1459.0</td>\n      <td>112.5</td>\n      <td>59.771429</td>\n      <td>36.900000</td>\n      <td>0.627</td>\n      <td>30.4</td>\n      <td>15.0</td>\n      <td>33.7</td>\n      <td>6.3</td>\n      <td>19.3</td>\n      <td>14.1</td>\n      <td>28.760000</td>\n    </tr>\n  </tbody>\n</table>\n</div>"
     },
     "metadata": {},
     "execution_count": 3
    }
   ],
   "source": [
    "# Create a DataFrame of only Tune Squad players.\n",
    "ts_df = player_df_final.iloc[26: , :]\n",
    "ts_df"
   ]
  },
  {
   "cell_type": "code",
   "execution_count": 4,
   "metadata": {},
   "outputs": [
    {
     "output_type": "execute_result",
     "data": {
      "text/plain": [
       "    ID              player\n",
       "0   31           Sylvester\n",
       "1   32  Marvin the Martian\n",
       "2   33         Road Runner\n",
       "3   34     Foghorn Leghorn\n",
       "4   35          Bugs Bunny\n",
       "5   36          Elmer Fudd\n",
       "6   37          Lola Bunny\n",
       "7   38           Porky Pig\n",
       "8   39     Tasmanian Devil\n",
       "9   40        Yosemite Sam\n",
       "10  41            Gossamer\n",
       "11  42              Granny\n",
       "12  43      Wile E. Coyote\n",
       "13  44              Tweety\n",
       "14  45            Penelope\n",
       "15  46          Daffy Duck"
      ],
      "text/html": "<div>\n<style scoped>\n    .dataframe tbody tr th:only-of-type {\n        vertical-align: middle;\n    }\n\n    .dataframe tbody tr th {\n        vertical-align: top;\n    }\n\n    .dataframe thead th {\n        text-align: right;\n    }\n</style>\n<table border=\"1\" class=\"dataframe\">\n  <thead>\n    <tr style=\"text-align: right;\">\n      <th></th>\n      <th>ID</th>\n      <th>player</th>\n    </tr>\n  </thead>\n  <tbody>\n    <tr>\n      <th>0</th>\n      <td>31</td>\n      <td>Sylvester</td>\n    </tr>\n    <tr>\n      <th>1</th>\n      <td>32</td>\n      <td>Marvin the Martian</td>\n    </tr>\n    <tr>\n      <th>2</th>\n      <td>33</td>\n      <td>Road Runner</td>\n    </tr>\n    <tr>\n      <th>3</th>\n      <td>34</td>\n      <td>Foghorn Leghorn</td>\n    </tr>\n    <tr>\n      <th>4</th>\n      <td>35</td>\n      <td>Bugs Bunny</td>\n    </tr>\n    <tr>\n      <th>5</th>\n      <td>36</td>\n      <td>Elmer Fudd</td>\n    </tr>\n    <tr>\n      <th>6</th>\n      <td>37</td>\n      <td>Lola Bunny</td>\n    </tr>\n    <tr>\n      <th>7</th>\n      <td>38</td>\n      <td>Porky Pig</td>\n    </tr>\n    <tr>\n      <th>8</th>\n      <td>39</td>\n      <td>Tasmanian Devil</td>\n    </tr>\n    <tr>\n      <th>9</th>\n      <td>40</td>\n      <td>Yosemite Sam</td>\n    </tr>\n    <tr>\n      <th>10</th>\n      <td>41</td>\n      <td>Gossamer</td>\n    </tr>\n    <tr>\n      <th>11</th>\n      <td>42</td>\n      <td>Granny</td>\n    </tr>\n    <tr>\n      <th>12</th>\n      <td>43</td>\n      <td>Wile E. Coyote</td>\n    </tr>\n    <tr>\n      <th>13</th>\n      <td>44</td>\n      <td>Tweety</td>\n    </tr>\n    <tr>\n      <th>14</th>\n      <td>45</td>\n      <td>Penelope</td>\n    </tr>\n    <tr>\n      <th>15</th>\n      <td>46</td>\n      <td>Daffy Duck</td>\n    </tr>\n  </tbody>\n</table>\n</div>"
     },
     "metadata": {},
     "execution_count": 4
    }
   ],
   "source": [
    "# Import Tune Squad player names.\n",
    "ts_name_df = pd.read_csv('tune_squad.csv', sep='\\t')\n",
    "ts_name_df"
   ]
  },
  {
   "cell_type": "code",
   "execution_count": 5,
   "metadata": {},
   "outputs": [
    {
     "output_type": "execute_result",
     "data": {
      "text/plain": [
       "   ID  player_type  points  possessions  team_pace         GP        MPG  \\\n",
       "0  31  tune_squad1  2049.0       1434.0      110.0  64.000000  38.800000   \n",
       "1  32  tune_squad2  1795.0       1481.8      112.1  62.000000  35.400000   \n",
       "2  33  tune_squad3  1805.0       1509.9      108.6  64.000000  35.400000   \n",
       "3  34  tune_squad4  1743.0       1422.4      112.9  64.000000  36.300000   \n",
       "4  35  tune_squad5  1963.0       1539.1      117.4  59.771429  35.208333   \n",
       "\n",
       "     TS%   AST    TO   USG  ORR   DRR  REBR        PER         player_name  \n",
       "0  0.619  31.5  14.9  35.5  8.3  17.6  12.8  28.440000           Sylvester  \n",
       "1  0.608  31.9  14.5  32.0  6.5  22.5  12.9  23.340000  Marvin the Martian  \n",
       "2  0.622  27.9  13.9  36.0  5.9  27.7  12.2  22.410000         Road Runner  \n",
       "3  0.619  30.9  15.6  34.5  5.9  18.9  14.8  29.853138     Foghorn Leghorn  \n",
       "4  0.633  32.3  16.2  34.0  5.9  19.8  13.1  27.160000          Bugs Bunny  "
      ],
      "text/html": "<div>\n<style scoped>\n    .dataframe tbody tr th:only-of-type {\n        vertical-align: middle;\n    }\n\n    .dataframe tbody tr th {\n        vertical-align: top;\n    }\n\n    .dataframe thead th {\n        text-align: right;\n    }\n</style>\n<table border=\"1\" class=\"dataframe\">\n  <thead>\n    <tr style=\"text-align: right;\">\n      <th></th>\n      <th>ID</th>\n      <th>player_type</th>\n      <th>points</th>\n      <th>possessions</th>\n      <th>team_pace</th>\n      <th>GP</th>\n      <th>MPG</th>\n      <th>TS%</th>\n      <th>AST</th>\n      <th>TO</th>\n      <th>USG</th>\n      <th>ORR</th>\n      <th>DRR</th>\n      <th>REBR</th>\n      <th>PER</th>\n      <th>player_name</th>\n    </tr>\n  </thead>\n  <tbody>\n    <tr>\n      <th>0</th>\n      <td>31</td>\n      <td>tune_squad1</td>\n      <td>2049.0</td>\n      <td>1434.0</td>\n      <td>110.0</td>\n      <td>64.000000</td>\n      <td>38.800000</td>\n      <td>0.619</td>\n      <td>31.5</td>\n      <td>14.9</td>\n      <td>35.5</td>\n      <td>8.3</td>\n      <td>17.6</td>\n      <td>12.8</td>\n      <td>28.440000</td>\n      <td>Sylvester</td>\n    </tr>\n    <tr>\n      <th>1</th>\n      <td>32</td>\n      <td>tune_squad2</td>\n      <td>1795.0</td>\n      <td>1481.8</td>\n      <td>112.1</td>\n      <td>62.000000</td>\n      <td>35.400000</td>\n      <td>0.608</td>\n      <td>31.9</td>\n      <td>14.5</td>\n      <td>32.0</td>\n      <td>6.5</td>\n      <td>22.5</td>\n      <td>12.9</td>\n      <td>23.340000</td>\n      <td>Marvin the Martian</td>\n    </tr>\n    <tr>\n      <th>2</th>\n      <td>33</td>\n      <td>tune_squad3</td>\n      <td>1805.0</td>\n      <td>1509.9</td>\n      <td>108.6</td>\n      <td>64.000000</td>\n      <td>35.400000</td>\n      <td>0.622</td>\n      <td>27.9</td>\n      <td>13.9</td>\n      <td>36.0</td>\n      <td>5.9</td>\n      <td>27.7</td>\n      <td>12.2</td>\n      <td>22.410000</td>\n      <td>Road Runner</td>\n    </tr>\n    <tr>\n      <th>3</th>\n      <td>34</td>\n      <td>tune_squad4</td>\n      <td>1743.0</td>\n      <td>1422.4</td>\n      <td>112.9</td>\n      <td>64.000000</td>\n      <td>36.300000</td>\n      <td>0.619</td>\n      <td>30.9</td>\n      <td>15.6</td>\n      <td>34.5</td>\n      <td>5.9</td>\n      <td>18.9</td>\n      <td>14.8</td>\n      <td>29.853138</td>\n      <td>Foghorn Leghorn</td>\n    </tr>\n    <tr>\n      <th>4</th>\n      <td>35</td>\n      <td>tune_squad5</td>\n      <td>1963.0</td>\n      <td>1539.1</td>\n      <td>117.4</td>\n      <td>59.771429</td>\n      <td>35.208333</td>\n      <td>0.633</td>\n      <td>32.3</td>\n      <td>16.2</td>\n      <td>34.0</td>\n      <td>5.9</td>\n      <td>19.8</td>\n      <td>13.1</td>\n      <td>27.160000</td>\n      <td>Bugs Bunny</td>\n    </tr>\n  </tbody>\n</table>\n</div>"
     },
     "metadata": {},
     "execution_count": 5
    }
   ],
   "source": [
    "# Merge the two DataFrames.\n",
    "ts_df = pd.merge(ts_df, ts_name_df, on='ID', how='left', suffixes=('_type', '_name'))\n",
    "ts_df.head()"
   ]
  },
  {
   "cell_type": "code",
   "execution_count": 6,
   "metadata": {},
   "outputs": [
    {
     "output_type": "execute_result",
     "data": {
      "text/plain": [
       "   ID         player_name  points  possessions  team_pace         GP  \\\n",
       "0  31           Sylvester  2049.0       1434.0      110.0  64.000000   \n",
       "1  32  Marvin the Martian  1795.0       1481.8      112.1  62.000000   \n",
       "2  33         Road Runner  1805.0       1509.9      108.6  64.000000   \n",
       "3  34     Foghorn Leghorn  1743.0       1422.4      112.9  64.000000   \n",
       "4  35          Bugs Bunny  1963.0       1539.1      117.4  59.771429   \n",
       "\n",
       "         MPG    TS%   AST    TO   USG  ORR   DRR  REBR        PER  \n",
       "0  38.800000  0.619  31.5  14.9  35.5  8.3  17.6  12.8  28.440000  \n",
       "1  35.400000  0.608  31.9  14.5  32.0  6.5  22.5  12.9  23.340000  \n",
       "2  35.400000  0.622  27.9  13.9  36.0  5.9  27.7  12.2  22.410000  \n",
       "3  36.300000  0.619  30.9  15.6  34.5  5.9  18.9  14.8  29.853138  \n",
       "4  35.208333  0.633  32.3  16.2  34.0  5.9  19.8  13.1  27.160000  "
      ],
      "text/html": "<div>\n<style scoped>\n    .dataframe tbody tr th:only-of-type {\n        vertical-align: middle;\n    }\n\n    .dataframe tbody tr th {\n        vertical-align: top;\n    }\n\n    .dataframe thead th {\n        text-align: right;\n    }\n</style>\n<table border=\"1\" class=\"dataframe\">\n  <thead>\n    <tr style=\"text-align: right;\">\n      <th></th>\n      <th>ID</th>\n      <th>player_name</th>\n      <th>points</th>\n      <th>possessions</th>\n      <th>team_pace</th>\n      <th>GP</th>\n      <th>MPG</th>\n      <th>TS%</th>\n      <th>AST</th>\n      <th>TO</th>\n      <th>USG</th>\n      <th>ORR</th>\n      <th>DRR</th>\n      <th>REBR</th>\n      <th>PER</th>\n    </tr>\n  </thead>\n  <tbody>\n    <tr>\n      <th>0</th>\n      <td>31</td>\n      <td>Sylvester</td>\n      <td>2049.0</td>\n      <td>1434.0</td>\n      <td>110.0</td>\n      <td>64.000000</td>\n      <td>38.800000</td>\n      <td>0.619</td>\n      <td>31.5</td>\n      <td>14.9</td>\n      <td>35.5</td>\n      <td>8.3</td>\n      <td>17.6</td>\n      <td>12.8</td>\n      <td>28.440000</td>\n    </tr>\n    <tr>\n      <th>1</th>\n      <td>32</td>\n      <td>Marvin the Martian</td>\n      <td>1795.0</td>\n      <td>1481.8</td>\n      <td>112.1</td>\n      <td>62.000000</td>\n      <td>35.400000</td>\n      <td>0.608</td>\n      <td>31.9</td>\n      <td>14.5</td>\n      <td>32.0</td>\n      <td>6.5</td>\n      <td>22.5</td>\n      <td>12.9</td>\n      <td>23.340000</td>\n    </tr>\n    <tr>\n      <th>2</th>\n      <td>33</td>\n      <td>Road Runner</td>\n      <td>1805.0</td>\n      <td>1509.9</td>\n      <td>108.6</td>\n      <td>64.000000</td>\n      <td>35.400000</td>\n      <td>0.622</td>\n      <td>27.9</td>\n      <td>13.9</td>\n      <td>36.0</td>\n      <td>5.9</td>\n      <td>27.7</td>\n      <td>12.2</td>\n      <td>22.410000</td>\n    </tr>\n    <tr>\n      <th>3</th>\n      <td>34</td>\n      <td>Foghorn Leghorn</td>\n      <td>1743.0</td>\n      <td>1422.4</td>\n      <td>112.9</td>\n      <td>64.000000</td>\n      <td>36.300000</td>\n      <td>0.619</td>\n      <td>30.9</td>\n      <td>15.6</td>\n      <td>34.5</td>\n      <td>5.9</td>\n      <td>18.9</td>\n      <td>14.8</td>\n      <td>29.853138</td>\n    </tr>\n    <tr>\n      <th>4</th>\n      <td>35</td>\n      <td>Bugs Bunny</td>\n      <td>1963.0</td>\n      <td>1539.1</td>\n      <td>117.4</td>\n      <td>59.771429</td>\n      <td>35.208333</td>\n      <td>0.633</td>\n      <td>32.3</td>\n      <td>16.2</td>\n      <td>34.0</td>\n      <td>5.9</td>\n      <td>19.8</td>\n      <td>13.1</td>\n      <td>27.160000</td>\n    </tr>\n  </tbody>\n</table>\n</div>"
     },
     "metadata": {},
     "execution_count": 6
    }
   ],
   "source": [
    "# Rearrange the columns to put the ID and player_name columns next to each other.\n",
    "column_list = list(ts_df)\n",
    "\n",
    "player_name = column_list.pop()\n",
    "column_list[1] = player_name\n",
    "\n",
    "ts_df = ts_df[column_list]\n",
    "ts_df.head()"
   ]
  },
  {
   "cell_type": "code",
   "execution_count": 7,
   "metadata": {},
   "outputs": [
    {
     "output_type": "execute_result",
     "data": {
      "text/plain": [
       "TS%     0.008262\n",
       "AST     2.140494\n",
       "TO      0.797197\n",
       "USG     1.892718\n",
       "ORR     1.139465\n",
       "DRR     3.017962\n",
       "REBR    1.802564\n",
       "dtype: float64"
      ]
     },
     "metadata": {},
     "execution_count": 7
    }
   ],
   "source": [
    "# Create a list of only the column names we are interested in.\n",
    "game_stat_cols = list(ts_df.iloc[:, 7:-1])\n",
    "game_stat_stdevs = []\n",
    "\n",
    "# Create a list of standard deviations for each stat.\n",
    "for stat in game_stat_cols:\n",
    "    game_stat_stdevs.append(ts_df[stat].std())\n",
    "\n",
    "# Create a Series of the standard deviations, with the stat names as the index.\n",
    "stdev_s = pd.Series(game_stat_stdevs, index=game_stat_cols)\n",
    "stdev_s"
   ]
  },
  {
   "cell_type": "code",
   "execution_count": 8,
   "metadata": {},
   "outputs": [],
   "source": [
    "# Import the models and libraries we need.\n",
    "from sklearn.linear_model import LinearRegression\n",
    "from numpy.random import randn\n",
    "\n",
    "# Get the dependent and independent variables for modeling the PER.\n",
    "X = player_df_final.iloc[:, 7:-1].to_numpy()\n",
    "y = player_df_final.iloc[:, -1]"
   ]
  },
  {
   "cell_type": "code",
   "execution_count": 9,
   "metadata": {},
   "outputs": [
    {
     "output_type": "execute_result",
     "data": {
      "text/plain": [
       "LinearRegression()"
      ]
     },
     "metadata": {},
     "execution_count": 9
    }
   ],
   "source": [
    "# Define and fit the model.\n",
    "lin_reg = LinearRegression()\n",
    "lin_reg.fit(X, y)"
   ]
  },
  {
   "cell_type": "code",
   "execution_count": 10,
   "metadata": {},
   "outputs": [
    {
     "output_type": "stream",
     "name": "stdout",
     "text": [
      "Iteration # \thigh PER \tlow PER\nIteration 1 \tDaffy Duck \tTasmanian Devil\nIteration 2 \tFoghorn Leghorn \tRoad Runner\nIteration 3 \tPorky Pig \tPenelope\nIteration 4 \tLola Bunny \tPenelope\nIteration 5 \tGossamer \tTasmanian Devil\nIteration 6 \tLola Bunny \tGranny\nIteration 7 \tWile E. Coyote \tRoad Runner\nIteration 8 \tLola Bunny \tRoad Runner\nIteration 9 \tFoghorn Leghorn \tPenelope\nIteration 10 \tGossamer \tPenelope\n"
     ]
    }
   ],
   "source": [
    "# Print the player with the highest and lower PER for each iteration.\n",
    "print('Iteration # \\thigh PER \\tlow PER')\n",
    "\n",
    "# Run the simulation 10 times.\n",
    "for i in range(10):\n",
    "\n",
    "    # Define an empty temporary DataFrame for each iteration.\n",
    "    # The columns of this DataFrame are the player stats and the index is the players' names.\n",
    "    game_df = pd.DataFrame(columns=game_stat_cols, index=list(ts_df['player_name']))\n",
    "    \n",
    "    # Loop through each stat.\n",
    "    for stat in game_stat_cols:\n",
    "        \n",
    "        # Each player's stats are used to generate a random value for each iteration.\n",
    "        game_df[stat] = list(ts_df[stat] + randn(len(ts_df)) * stdev_s[stat])\n",
    "    \n",
    "    # Use the fitted model to predict players' PERs based on the randomized data.\n",
    "    game_df['PER'] = lin_reg.predict(game_df)\n",
    "\n",
    "    # Print the player with the highest and lower PER for each iteration.\n",
    "    print('Iteration {}'.format(i+1) + ' \\t' + game_df['PER'].idxmax() + ' \\t' + game_df['PER'].idxmin())"
   ]
  },
  {
   "cell_type": "code",
   "execution_count": 11,
   "metadata": {},
   "outputs": [
    {
     "output_type": "execute_result",
     "data": {
      "text/plain": [
       "                                 TS%        AST         TO        USG  \\\n",
       "minutes player_name                                                     \n",
       "0       Sylvester           0.632966  34.030043  14.340470  38.724856   \n",
       "        Marvin the Martian  0.619696  34.139725  15.134242  35.670960   \n",
       "        Road Runner         0.622154  26.573528  13.269820  35.834619   \n",
       "        Foghorn Leghorn     0.618640  36.599153  15.190895  34.281217   \n",
       "        Bugs Bunny          0.629167  31.444101  15.795473  31.442272   \n",
       "        Elmer Fudd          0.627483  27.546498  15.281549  39.892324   \n",
       "        Lola Bunny          0.619895  29.635891  13.801104  34.495937   \n",
       "        Porky Pig           0.615448  31.200501  16.195992  35.463679   \n",
       "        Tasmanian Devil     0.608610  27.224185  15.610529  37.648501   \n",
       "        Gossamer            0.609911  34.525529  16.139074  35.757199   \n",
       "        Granny              0.607884  28.023278  14.216359  33.744534   \n",
       "        Wile E. Coyote      0.613634  31.626157  14.688097  33.566135   \n",
       "        Tweety              0.609090  27.798230  13.562450  35.933298   \n",
       "        Penelope            0.612160  23.252842  15.748349  31.039992   \n",
       "        Daffy Duck          0.620895  27.518981  14.957884  31.451280   \n",
       "12      Sylvester           0.623003  32.344993  16.904093  35.204996   \n",
       "        Marvin the Martian  0.601771  34.289198  14.710049  32.396818   \n",
       "        Road Runner         0.609029  30.847503  12.950832  36.634129   \n",
       "        Foghorn Leghorn     0.614621  33.221626  15.905372  35.292766   \n",
       "        Bugs Bunny          0.650010  30.419648  16.439090  31.930242   \n",
       "        Elmer Fudd          0.628316  35.272939  14.247521  34.293852   \n",
       "        Lola Bunny          0.633585  34.882847  12.881588  38.749488   \n",
       "        Porky Pig           0.603542  27.901917  15.903661  34.418279   \n",
       "        Tasmanian Devil     0.597346  28.432704  14.568312  35.584994   \n",
       "        Gossamer            0.630978  33.671203  15.491450  34.960387   \n",
       "        Granny              0.603817  27.267596  13.920241  36.624098   \n",
       "        Wile E. Coyote      0.622572  29.672181  13.241618  33.213638   \n",
       "        Tweety              0.592356  27.155220  12.275379  35.275054   \n",
       "        Penelope            0.614072  27.758940  15.064815  32.608446   \n",
       "        Daffy Duck          0.621172  32.135677  15.995835  34.190714   \n",
       "24      Sylvester           0.622059  28.058144  15.166130  34.094292   \n",
       "        Marvin the Martian  0.621743  33.497049  13.992931  32.799605   \n",
       "        Road Runner         0.631253  25.225272  14.704107  31.969429   \n",
       "        Foghorn Leghorn     0.596107  28.882272  15.124701  35.559541   \n",
       "        Bugs Bunny          0.638287  33.620818  15.510441  34.158867   \n",
       "        Elmer Fudd          0.620058  27.947332  16.663068  36.383940   \n",
       "        Lola Bunny          0.631027  34.358453  14.743109  36.557926   \n",
       "        Porky Pig           0.595857  30.735310  14.657184  37.378233   \n",
       "        Tasmanian Devil     0.603978  24.682603  14.604687  36.362883   \n",
       "        Gossamer            0.626025  30.855036  14.541820  33.803994   \n",
       "        Granny              0.612854  26.294208  14.551308  36.662444   \n",
       "        Wile E. Coyote      0.618183  26.658480  15.261139  35.705291   \n",
       "        Tweety              0.603404  26.116229  13.890197  35.112514   \n",
       "        Penelope            0.624724  24.820914  15.039224  27.936595   \n",
       "        Daffy Duck          0.628409  30.051965  14.339083  34.911175   \n",
       "36      Sylvester           0.621324  37.831119  15.037455  35.908999   \n",
       "        Marvin the Martian  0.601256  28.988140  13.070413  36.193998   \n",
       "        Road Runner         0.611588  27.574727  15.003142  36.141885   \n",
       "        Foghorn Leghorn     0.620774  32.190001  15.720608  36.773803   \n",
       "        Bugs Bunny          0.634965  33.506685  16.566169  32.242446   \n",
       "        Elmer Fudd          0.610166  33.196083  15.457626  35.858597   \n",
       "        Lola Bunny          0.634297  33.002958  12.647562  36.075704   \n",
       "        Porky Pig           0.605741  33.562882  16.487773  34.076201   \n",
       "        Tasmanian Devil     0.609949  25.372569  15.626796  35.230511   \n",
       "        Gossamer            0.624589  33.653571  15.665852  36.022866   \n",
       "        Granny              0.626752  30.617844  14.849374  35.443549   \n",
       "        Wile E. Coyote      0.610244  26.718106  14.006806  36.172841   \n",
       "        Tweety              0.603333  23.355563  13.307736  36.681142   \n",
       "        Penelope            0.619156  23.373971  15.551892  26.050033   \n",
       "        Daffy Duck          0.622033  29.649297  15.914427  34.701714   \n",
       "\n",
       "                                  ORR        DRR       REBR        PER  \n",
       "minutes player_name                                                     \n",
       "0       Sylvester           10.393857  19.800219  15.847205  33.959359  \n",
       "        Marvin the Martian   6.950590  26.090534  10.591533  20.616210  \n",
       "        Road Runner          6.051612  28.381993  10.829785  20.283912  \n",
       "        Foghorn Leghorn      4.041697  19.093148  15.571561  31.911559  \n",
       "        Bugs Bunny           7.184518  15.795599  13.482344  28.320928  \n",
       "        Elmer Fudd           4.975824  22.999198  16.067701  32.870045  \n",
       "        Lola Bunny           4.579654  19.899107  16.268182  32.532386  \n",
       "        Porky Pig            6.668826  21.400319  12.403149  24.861319  \n",
       "        Tasmanian Devil      4.670135  27.710327   7.441190  15.420495  \n",
       "        Gossamer             6.746092  16.783422  10.560228  25.362870  \n",
       "        Granny               4.818628  21.535450  14.211734  27.080481  \n",
       "        Wile E. Coyote       5.433223  23.002543  13.456707  25.281975  \n",
       "        Tweety               6.263131  29.585064  12.419926  20.965653  \n",
       "        Penelope             7.544170  15.287692  13.491007  26.568296  \n",
       "        Daffy Duck           5.775794  21.638443  15.298405  27.190191  \n",
       "12      Sylvester            8.924215  18.946031  11.846551  25.036878  \n",
       "        Marvin the Martian   8.731756  27.173940  15.512804  23.597611  \n",
       "        Road Runner          6.058649  24.012729  14.711646  28.706237  \n",
       "        Foghorn Leghorn      5.422187  17.095622  17.254525  34.785895  \n",
       "        Bugs Bunny           7.208025  18.886253  12.769936  26.432307  \n",
       "        Elmer Fudd           7.344439  19.324507  14.018309  29.735874  \n",
       "        Lola Bunny           4.381056  24.887602  18.235203  36.577499  \n",
       "        Porky Pig            5.403725  22.427381  14.021224  25.322619  \n",
       "        Tasmanian Devil      5.812314  22.062714   7.897258  18.086163  \n",
       "        Gossamer             7.208693  10.258412  11.428519  31.492570  \n",
       "        Granny               6.918148  20.629721  16.588801  31.997615  \n",
       "        Wile E. Coyote       5.865584  19.760040  13.361067  27.959439  \n",
       "        Tweety               7.377691  26.233633  13.276668  23.256278  \n",
       "        Penelope             8.632349  14.697186  12.262279  26.827010  \n",
       "        Daffy Duck           6.764625  24.491763  15.535131  27.036558  \n",
       "24      Sylvester            8.264745  21.519862  14.339893  26.894962  \n",
       "        Marvin the Martian   6.176975  21.364404  14.999050  28.824211  \n",
       "        Road Runner          8.952980  24.833618  10.580415  18.680130  \n",
       "        Foghorn Leghorn      6.960483  17.815623  15.848231  31.114369  \n",
       "        Bugs Bunny           5.152959  18.944594  11.417123  26.532848  \n",
       "        Elmer Fudd           5.241031  25.987948  11.295270  21.074201  \n",
       "        Lola Bunny           2.898777  23.285176  13.788436  29.224492  \n",
       "        Porky Pig            6.088117  17.629254  13.150821  29.222006  \n",
       "        Tasmanian Devil      5.109262  22.982989   8.103183  18.433063  \n",
       "        Gossamer             4.754061  18.310485  13.777421  29.657856  \n",
       "        Granny               6.835910  17.703532  13.240452  29.274062  \n",
       "        Wile E. Coyote       4.729017  18.376961  16.511369  33.297385  \n",
       "        Tweety               8.641356  25.952763  12.361745  21.374651  \n",
       "        Penelope             7.376052  17.299242  11.188279  21.573257  \n",
       "        Daffy Duck           5.885863  18.507036  13.368286  29.516804  \n",
       "36      Sylvester            8.651868  16.294708  12.812820  29.992678  \n",
       "        Marvin the Martian   7.277600  25.416454  14.452053  26.214642  \n",
       "        Road Runner          4.951648  29.313426  11.830483  20.088939  \n",
       "        Foghorn Leghorn      3.975676  19.823048  14.840079  31.346989  \n",
       "        Bugs Bunny           6.158886  22.239779  12.819963  24.250922  \n",
       "        Elmer Fudd           4.833977  23.261874  14.031242  26.971387  \n",
       "        Lola Bunny           5.661472  23.099185  18.607280  36.264613  \n",
       "        Porky Pig            4.722649  18.479922  15.841476  30.617794  \n",
       "        Tasmanian Devil      6.488884  24.191251   8.868284  17.561455  \n",
       "        Gossamer             4.693795  21.250058  14.191482  29.324298  \n",
       "        Granny               6.474874  27.867662  13.133606  23.241127  \n",
       "        Wile E. Coyote       6.170105  25.688464  14.435209  26.055963  \n",
       "        Tweety               6.360417  22.432520  11.864776  24.426020  \n",
       "        Penelope             8.843067  16.781987  10.199529  18.278331  \n",
       "        Daffy Duck           5.400936  19.512192  18.170895  34.278003  "
      ],
      "text/html": "<div>\n<style scoped>\n    .dataframe tbody tr th:only-of-type {\n        vertical-align: middle;\n    }\n\n    .dataframe tbody tr th {\n        vertical-align: top;\n    }\n\n    .dataframe thead th {\n        text-align: right;\n    }\n</style>\n<table border=\"1\" class=\"dataframe\">\n  <thead>\n    <tr style=\"text-align: right;\">\n      <th></th>\n      <th></th>\n      <th>TS%</th>\n      <th>AST</th>\n      <th>TO</th>\n      <th>USG</th>\n      <th>ORR</th>\n      <th>DRR</th>\n      <th>REBR</th>\n      <th>PER</th>\n    </tr>\n    <tr>\n      <th>minutes</th>\n      <th>player_name</th>\n      <th></th>\n      <th></th>\n      <th></th>\n      <th></th>\n      <th></th>\n      <th></th>\n      <th></th>\n      <th></th>\n    </tr>\n  </thead>\n  <tbody>\n    <tr>\n      <th rowspan=\"15\" valign=\"top\">0</th>\n      <th>Sylvester</th>\n      <td>0.632966</td>\n      <td>34.030043</td>\n      <td>14.340470</td>\n      <td>38.724856</td>\n      <td>10.393857</td>\n      <td>19.800219</td>\n      <td>15.847205</td>\n      <td>33.959359</td>\n    </tr>\n    <tr>\n      <th>Marvin the Martian</th>\n      <td>0.619696</td>\n      <td>34.139725</td>\n      <td>15.134242</td>\n      <td>35.670960</td>\n      <td>6.950590</td>\n      <td>26.090534</td>\n      <td>10.591533</td>\n      <td>20.616210</td>\n    </tr>\n    <tr>\n      <th>Road Runner</th>\n      <td>0.622154</td>\n      <td>26.573528</td>\n      <td>13.269820</td>\n      <td>35.834619</td>\n      <td>6.051612</td>\n      <td>28.381993</td>\n      <td>10.829785</td>\n      <td>20.283912</td>\n    </tr>\n    <tr>\n      <th>Foghorn Leghorn</th>\n      <td>0.618640</td>\n      <td>36.599153</td>\n      <td>15.190895</td>\n      <td>34.281217</td>\n      <td>4.041697</td>\n      <td>19.093148</td>\n      <td>15.571561</td>\n      <td>31.911559</td>\n    </tr>\n    <tr>\n      <th>Bugs Bunny</th>\n      <td>0.629167</td>\n      <td>31.444101</td>\n      <td>15.795473</td>\n      <td>31.442272</td>\n      <td>7.184518</td>\n      <td>15.795599</td>\n      <td>13.482344</td>\n      <td>28.320928</td>\n    </tr>\n    <tr>\n      <th>Elmer Fudd</th>\n      <td>0.627483</td>\n      <td>27.546498</td>\n      <td>15.281549</td>\n      <td>39.892324</td>\n      <td>4.975824</td>\n      <td>22.999198</td>\n      <td>16.067701</td>\n      <td>32.870045</td>\n    </tr>\n    <tr>\n      <th>Lola Bunny</th>\n      <td>0.619895</td>\n      <td>29.635891</td>\n      <td>13.801104</td>\n      <td>34.495937</td>\n      <td>4.579654</td>\n      <td>19.899107</td>\n      <td>16.268182</td>\n      <td>32.532386</td>\n    </tr>\n    <tr>\n      <th>Porky Pig</th>\n      <td>0.615448</td>\n      <td>31.200501</td>\n      <td>16.195992</td>\n      <td>35.463679</td>\n      <td>6.668826</td>\n      <td>21.400319</td>\n      <td>12.403149</td>\n      <td>24.861319</td>\n    </tr>\n    <tr>\n      <th>Tasmanian Devil</th>\n      <td>0.608610</td>\n      <td>27.224185</td>\n      <td>15.610529</td>\n      <td>37.648501</td>\n      <td>4.670135</td>\n      <td>27.710327</td>\n      <td>7.441190</td>\n      <td>15.420495</td>\n    </tr>\n    <tr>\n      <th>Gossamer</th>\n      <td>0.609911</td>\n      <td>34.525529</td>\n      <td>16.139074</td>\n      <td>35.757199</td>\n      <td>6.746092</td>\n      <td>16.783422</td>\n      <td>10.560228</td>\n      <td>25.362870</td>\n    </tr>\n    <tr>\n      <th>Granny</th>\n      <td>0.607884</td>\n      <td>28.023278</td>\n      <td>14.216359</td>\n      <td>33.744534</td>\n      <td>4.818628</td>\n      <td>21.535450</td>\n      <td>14.211734</td>\n      <td>27.080481</td>\n    </tr>\n    <tr>\n      <th>Wile E. Coyote</th>\n      <td>0.613634</td>\n      <td>31.626157</td>\n      <td>14.688097</td>\n      <td>33.566135</td>\n      <td>5.433223</td>\n      <td>23.002543</td>\n      <td>13.456707</td>\n      <td>25.281975</td>\n    </tr>\n    <tr>\n      <th>Tweety</th>\n      <td>0.609090</td>\n      <td>27.798230</td>\n      <td>13.562450</td>\n      <td>35.933298</td>\n      <td>6.263131</td>\n      <td>29.585064</td>\n      <td>12.419926</td>\n      <td>20.965653</td>\n    </tr>\n    <tr>\n      <th>Penelope</th>\n      <td>0.612160</td>\n      <td>23.252842</td>\n      <td>15.748349</td>\n      <td>31.039992</td>\n      <td>7.544170</td>\n      <td>15.287692</td>\n      <td>13.491007</td>\n      <td>26.568296</td>\n    </tr>\n    <tr>\n      <th>Daffy Duck</th>\n      <td>0.620895</td>\n      <td>27.518981</td>\n      <td>14.957884</td>\n      <td>31.451280</td>\n      <td>5.775794</td>\n      <td>21.638443</td>\n      <td>15.298405</td>\n      <td>27.190191</td>\n    </tr>\n    <tr>\n      <th rowspan=\"15\" valign=\"top\">12</th>\n      <th>Sylvester</th>\n      <td>0.623003</td>\n      <td>32.344993</td>\n      <td>16.904093</td>\n      <td>35.204996</td>\n      <td>8.924215</td>\n      <td>18.946031</td>\n      <td>11.846551</td>\n      <td>25.036878</td>\n    </tr>\n    <tr>\n      <th>Marvin the Martian</th>\n      <td>0.601771</td>\n      <td>34.289198</td>\n      <td>14.710049</td>\n      <td>32.396818</td>\n      <td>8.731756</td>\n      <td>27.173940</td>\n      <td>15.512804</td>\n      <td>23.597611</td>\n    </tr>\n    <tr>\n      <th>Road Runner</th>\n      <td>0.609029</td>\n      <td>30.847503</td>\n      <td>12.950832</td>\n      <td>36.634129</td>\n      <td>6.058649</td>\n      <td>24.012729</td>\n      <td>14.711646</td>\n      <td>28.706237</td>\n    </tr>\n    <tr>\n      <th>Foghorn Leghorn</th>\n      <td>0.614621</td>\n      <td>33.221626</td>\n      <td>15.905372</td>\n      <td>35.292766</td>\n      <td>5.422187</td>\n      <td>17.095622</td>\n      <td>17.254525</td>\n      <td>34.785895</td>\n    </tr>\n    <tr>\n      <th>Bugs Bunny</th>\n      <td>0.650010</td>\n      <td>30.419648</td>\n      <td>16.439090</td>\n      <td>31.930242</td>\n      <td>7.208025</td>\n      <td>18.886253</td>\n      <td>12.769936</td>\n      <td>26.432307</td>\n    </tr>\n    <tr>\n      <th>Elmer Fudd</th>\n      <td>0.628316</td>\n      <td>35.272939</td>\n      <td>14.247521</td>\n      <td>34.293852</td>\n      <td>7.344439</td>\n      <td>19.324507</td>\n      <td>14.018309</td>\n      <td>29.735874</td>\n    </tr>\n    <tr>\n      <th>Lola Bunny</th>\n      <td>0.633585</td>\n      <td>34.882847</td>\n      <td>12.881588</td>\n      <td>38.749488</td>\n      <td>4.381056</td>\n      <td>24.887602</td>\n      <td>18.235203</td>\n      <td>36.577499</td>\n    </tr>\n    <tr>\n      <th>Porky Pig</th>\n      <td>0.603542</td>\n      <td>27.901917</td>\n      <td>15.903661</td>\n      <td>34.418279</td>\n      <td>5.403725</td>\n      <td>22.427381</td>\n      <td>14.021224</td>\n      <td>25.322619</td>\n    </tr>\n    <tr>\n      <th>Tasmanian Devil</th>\n      <td>0.597346</td>\n      <td>28.432704</td>\n      <td>14.568312</td>\n      <td>35.584994</td>\n      <td>5.812314</td>\n      <td>22.062714</td>\n      <td>7.897258</td>\n      <td>18.086163</td>\n    </tr>\n    <tr>\n      <th>Gossamer</th>\n      <td>0.630978</td>\n      <td>33.671203</td>\n      <td>15.491450</td>\n      <td>34.960387</td>\n      <td>7.208693</td>\n      <td>10.258412</td>\n      <td>11.428519</td>\n      <td>31.492570</td>\n    </tr>\n    <tr>\n      <th>Granny</th>\n      <td>0.603817</td>\n      <td>27.267596</td>\n      <td>13.920241</td>\n      <td>36.624098</td>\n      <td>6.918148</td>\n      <td>20.629721</td>\n      <td>16.588801</td>\n      <td>31.997615</td>\n    </tr>\n    <tr>\n      <th>Wile E. Coyote</th>\n      <td>0.622572</td>\n      <td>29.672181</td>\n      <td>13.241618</td>\n      <td>33.213638</td>\n      <td>5.865584</td>\n      <td>19.760040</td>\n      <td>13.361067</td>\n      <td>27.959439</td>\n    </tr>\n    <tr>\n      <th>Tweety</th>\n      <td>0.592356</td>\n      <td>27.155220</td>\n      <td>12.275379</td>\n      <td>35.275054</td>\n      <td>7.377691</td>\n      <td>26.233633</td>\n      <td>13.276668</td>\n      <td>23.256278</td>\n    </tr>\n    <tr>\n      <th>Penelope</th>\n      <td>0.614072</td>\n      <td>27.758940</td>\n      <td>15.064815</td>\n      <td>32.608446</td>\n      <td>8.632349</td>\n      <td>14.697186</td>\n      <td>12.262279</td>\n      <td>26.827010</td>\n    </tr>\n    <tr>\n      <th>Daffy Duck</th>\n      <td>0.621172</td>\n      <td>32.135677</td>\n      <td>15.995835</td>\n      <td>34.190714</td>\n      <td>6.764625</td>\n      <td>24.491763</td>\n      <td>15.535131</td>\n      <td>27.036558</td>\n    </tr>\n    <tr>\n      <th rowspan=\"15\" valign=\"top\">24</th>\n      <th>Sylvester</th>\n      <td>0.622059</td>\n      <td>28.058144</td>\n      <td>15.166130</td>\n      <td>34.094292</td>\n      <td>8.264745</td>\n      <td>21.519862</td>\n      <td>14.339893</td>\n      <td>26.894962</td>\n    </tr>\n    <tr>\n      <th>Marvin the Martian</th>\n      <td>0.621743</td>\n      <td>33.497049</td>\n      <td>13.992931</td>\n      <td>32.799605</td>\n      <td>6.176975</td>\n      <td>21.364404</td>\n      <td>14.999050</td>\n      <td>28.824211</td>\n    </tr>\n    <tr>\n      <th>Road Runner</th>\n      <td>0.631253</td>\n      <td>25.225272</td>\n      <td>14.704107</td>\n      <td>31.969429</td>\n      <td>8.952980</td>\n      <td>24.833618</td>\n      <td>10.580415</td>\n      <td>18.680130</td>\n    </tr>\n    <tr>\n      <th>Foghorn Leghorn</th>\n      <td>0.596107</td>\n      <td>28.882272</td>\n      <td>15.124701</td>\n      <td>35.559541</td>\n      <td>6.960483</td>\n      <td>17.815623</td>\n      <td>15.848231</td>\n      <td>31.114369</td>\n    </tr>\n    <tr>\n      <th>Bugs Bunny</th>\n      <td>0.638287</td>\n      <td>33.620818</td>\n      <td>15.510441</td>\n      <td>34.158867</td>\n      <td>5.152959</td>\n      <td>18.944594</td>\n      <td>11.417123</td>\n      <td>26.532848</td>\n    </tr>\n    <tr>\n      <th>Elmer Fudd</th>\n      <td>0.620058</td>\n      <td>27.947332</td>\n      <td>16.663068</td>\n      <td>36.383940</td>\n      <td>5.241031</td>\n      <td>25.987948</td>\n      <td>11.295270</td>\n      <td>21.074201</td>\n    </tr>\n    <tr>\n      <th>Lola Bunny</th>\n      <td>0.631027</td>\n      <td>34.358453</td>\n      <td>14.743109</td>\n      <td>36.557926</td>\n      <td>2.898777</td>\n      <td>23.285176</td>\n      <td>13.788436</td>\n      <td>29.224492</td>\n    </tr>\n    <tr>\n      <th>Porky Pig</th>\n      <td>0.595857</td>\n      <td>30.735310</td>\n      <td>14.657184</td>\n      <td>37.378233</td>\n      <td>6.088117</td>\n      <td>17.629254</td>\n      <td>13.150821</td>\n      <td>29.222006</td>\n    </tr>\n    <tr>\n      <th>Tasmanian Devil</th>\n      <td>0.603978</td>\n      <td>24.682603</td>\n      <td>14.604687</td>\n      <td>36.362883</td>\n      <td>5.109262</td>\n      <td>22.982989</td>\n      <td>8.103183</td>\n      <td>18.433063</td>\n    </tr>\n    <tr>\n      <th>Gossamer</th>\n      <td>0.626025</td>\n      <td>30.855036</td>\n      <td>14.541820</td>\n      <td>33.803994</td>\n      <td>4.754061</td>\n      <td>18.310485</td>\n      <td>13.777421</td>\n      <td>29.657856</td>\n    </tr>\n    <tr>\n      <th>Granny</th>\n      <td>0.612854</td>\n      <td>26.294208</td>\n      <td>14.551308</td>\n      <td>36.662444</td>\n      <td>6.835910</td>\n      <td>17.703532</td>\n      <td>13.240452</td>\n      <td>29.274062</td>\n    </tr>\n    <tr>\n      <th>Wile E. Coyote</th>\n      <td>0.618183</td>\n      <td>26.658480</td>\n      <td>15.261139</td>\n      <td>35.705291</td>\n      <td>4.729017</td>\n      <td>18.376961</td>\n      <td>16.511369</td>\n      <td>33.297385</td>\n    </tr>\n    <tr>\n      <th>Tweety</th>\n      <td>0.603404</td>\n      <td>26.116229</td>\n      <td>13.890197</td>\n      <td>35.112514</td>\n      <td>8.641356</td>\n      <td>25.952763</td>\n      <td>12.361745</td>\n      <td>21.374651</td>\n    </tr>\n    <tr>\n      <th>Penelope</th>\n      <td>0.624724</td>\n      <td>24.820914</td>\n      <td>15.039224</td>\n      <td>27.936595</td>\n      <td>7.376052</td>\n      <td>17.299242</td>\n      <td>11.188279</td>\n      <td>21.573257</td>\n    </tr>\n    <tr>\n      <th>Daffy Duck</th>\n      <td>0.628409</td>\n      <td>30.051965</td>\n      <td>14.339083</td>\n      <td>34.911175</td>\n      <td>5.885863</td>\n      <td>18.507036</td>\n      <td>13.368286</td>\n      <td>29.516804</td>\n    </tr>\n    <tr>\n      <th rowspan=\"15\" valign=\"top\">36</th>\n      <th>Sylvester</th>\n      <td>0.621324</td>\n      <td>37.831119</td>\n      <td>15.037455</td>\n      <td>35.908999</td>\n      <td>8.651868</td>\n      <td>16.294708</td>\n      <td>12.812820</td>\n      <td>29.992678</td>\n    </tr>\n    <tr>\n      <th>Marvin the Martian</th>\n      <td>0.601256</td>\n      <td>28.988140</td>\n      <td>13.070413</td>\n      <td>36.193998</td>\n      <td>7.277600</td>\n      <td>25.416454</td>\n      <td>14.452053</td>\n      <td>26.214642</td>\n    </tr>\n    <tr>\n      <th>Road Runner</th>\n      <td>0.611588</td>\n      <td>27.574727</td>\n      <td>15.003142</td>\n      <td>36.141885</td>\n      <td>4.951648</td>\n      <td>29.313426</td>\n      <td>11.830483</td>\n      <td>20.088939</td>\n    </tr>\n    <tr>\n      <th>Foghorn Leghorn</th>\n      <td>0.620774</td>\n      <td>32.190001</td>\n      <td>15.720608</td>\n      <td>36.773803</td>\n      <td>3.975676</td>\n      <td>19.823048</td>\n      <td>14.840079</td>\n      <td>31.346989</td>\n    </tr>\n    <tr>\n      <th>Bugs Bunny</th>\n      <td>0.634965</td>\n      <td>33.506685</td>\n      <td>16.566169</td>\n      <td>32.242446</td>\n      <td>6.158886</td>\n      <td>22.239779</td>\n      <td>12.819963</td>\n      <td>24.250922</td>\n    </tr>\n    <tr>\n      <th>Elmer Fudd</th>\n      <td>0.610166</td>\n      <td>33.196083</td>\n      <td>15.457626</td>\n      <td>35.858597</td>\n      <td>4.833977</td>\n      <td>23.261874</td>\n      <td>14.031242</td>\n      <td>26.971387</td>\n    </tr>\n    <tr>\n      <th>Lola Bunny</th>\n      <td>0.634297</td>\n      <td>33.002958</td>\n      <td>12.647562</td>\n      <td>36.075704</td>\n      <td>5.661472</td>\n      <td>23.099185</td>\n      <td>18.607280</td>\n      <td>36.264613</td>\n    </tr>\n    <tr>\n      <th>Porky Pig</th>\n      <td>0.605741</td>\n      <td>33.562882</td>\n      <td>16.487773</td>\n      <td>34.076201</td>\n      <td>4.722649</td>\n      <td>18.479922</td>\n      <td>15.841476</td>\n      <td>30.617794</td>\n    </tr>\n    <tr>\n      <th>Tasmanian Devil</th>\n      <td>0.609949</td>\n      <td>25.372569</td>\n      <td>15.626796</td>\n      <td>35.230511</td>\n      <td>6.488884</td>\n      <td>24.191251</td>\n      <td>8.868284</td>\n      <td>17.561455</td>\n    </tr>\n    <tr>\n      <th>Gossamer</th>\n      <td>0.624589</td>\n      <td>33.653571</td>\n      <td>15.665852</td>\n      <td>36.022866</td>\n      <td>4.693795</td>\n      <td>21.250058</td>\n      <td>14.191482</td>\n      <td>29.324298</td>\n    </tr>\n    <tr>\n      <th>Granny</th>\n      <td>0.626752</td>\n      <td>30.617844</td>\n      <td>14.849374</td>\n      <td>35.443549</td>\n      <td>6.474874</td>\n      <td>27.867662</td>\n      <td>13.133606</td>\n      <td>23.241127</td>\n    </tr>\n    <tr>\n      <th>Wile E. Coyote</th>\n      <td>0.610244</td>\n      <td>26.718106</td>\n      <td>14.006806</td>\n      <td>36.172841</td>\n      <td>6.170105</td>\n      <td>25.688464</td>\n      <td>14.435209</td>\n      <td>26.055963</td>\n    </tr>\n    <tr>\n      <th>Tweety</th>\n      <td>0.603333</td>\n      <td>23.355563</td>\n      <td>13.307736</td>\n      <td>36.681142</td>\n      <td>6.360417</td>\n      <td>22.432520</td>\n      <td>11.864776</td>\n      <td>24.426020</td>\n    </tr>\n    <tr>\n      <th>Penelope</th>\n      <td>0.619156</td>\n      <td>23.373971</td>\n      <td>15.551892</td>\n      <td>26.050033</td>\n      <td>8.843067</td>\n      <td>16.781987</td>\n      <td>10.199529</td>\n      <td>18.278331</td>\n    </tr>\n    <tr>\n      <th>Daffy Duck</th>\n      <td>0.622033</td>\n      <td>29.649297</td>\n      <td>15.914427</td>\n      <td>34.701714</td>\n      <td>5.400936</td>\n      <td>19.512192</td>\n      <td>18.170895</td>\n      <td>34.278003</td>\n    </tr>\n  </tbody>\n</table>\n</div>"
     },
     "metadata": {},
     "execution_count": 11
    }
   ],
   "source": [
    "# Initialize four empty DataFrames, one for each 12-minute period.\n",
    "number_of_iterations = 4\n",
    "df_list = [pd.DataFrame(columns=game_stat_cols, index=list(ts_df['player_name'])) for i in range(number_of_iterations)]\n",
    "\n",
    "# For each period, generate randomized player data and predict the PER.\n",
    "# Use the model fitted earlier.\n",
    "for df in df_list:\n",
    "    for stat in game_stat_cols:\n",
    "        df[stat] = list(ts_df[stat] + randn(len(ts_df)) * stdev_s[stat])\n",
    "    df['PER'] = lin_reg.predict(df)\n",
    "\n",
    "# Concatenate the DataFrames and make the players' names the index.\n",
    "game_df = pd.concat(df_list)\n",
    "game_df.rename_axis('player_name', inplace=True)\n",
    "\n",
    "# Create another index for the period in question.\n",
    "minutes = [(x // len(ts_df)) * 12 for x in range(len(game_df))]\n",
    "game_df['minutes'] = minutes\n",
    "game_df.set_index('minutes', append=True, inplace=True)\n",
    "game_df = game_df.swaplevel()\n",
    "\n",
    "game_df"
   ]
  },
  {
   "cell_type": "code",
   "execution_count": 12,
   "metadata": {},
   "outputs": [],
   "source": [
    "# Export the finished DataFrame to CSV.\n",
    "game_df.to_csv('game_stats.csv')"
   ]
  },
  {
   "cell_type": "code",
   "execution_count": null,
   "metadata": {},
   "outputs": [],
   "source": []
  }
 ]
}